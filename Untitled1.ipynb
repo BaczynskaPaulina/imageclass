{
 "cells": [
  {
   "cell_type": "code",
   "execution_count": 1,
   "metadata": {},
   "outputs": [],
   "source": [
    "import tensorflow as tf\n",
    "import numpy as np\n",
    "import base64\n",
    "import csv\n",
    "import os\n",
    "from PIL import Image\n",
    "import io"
   ]
  },
  {
   "cell_type": "code",
   "execution_count": 2,
   "metadata": {},
   "outputs": [],
   "source": [
    "def int64_feature(value):\n",
    "    return tf.train.Feature(int64_list=tf.train.Int64List(value=[value]))\n",
    "\n",
    "\n",
    "def int64_list_feature(value):\n",
    "    return tf.train.Feature(int64_list=tf.train.Int64List(value=value))\n",
    "\n",
    "\n",
    "def bytes_feature(value):\n",
    "    return tf.train.Feature(bytes_list=tf.train.BytesList(value=[value]))\n",
    "\n",
    "\n",
    "def bytes_list_feature(value):\n",
    "    return tf.train.Feature(bytes_list=tf.train.BytesList(value=value))\n",
    "\n",
    "\n",
    "def float_list_feature(value):\n",
    "    return tf.train.Feature(float_list=tf.train.FloatList(value=value))\n",
    "\n",
    "class_dict = {\n",
    "    1: b'cookie', # List of class map Text with byte\n",
    "    2: b'rutensil'\n",
    "}"
   ]
  },
  {
   "cell_type": "code",
   "execution_count": 3,
   "metadata": {},
   "outputs": [],
   "source": [
    "def create_tf_example(img_name, img_path, labels):\n",
    "    with tf.gfile.GFile(img_path, 'rb') as fid:\n",
    "        encoded_jpg = fid.read()\n",
    "\n",
    "    image_format = str.encode(img_name.split('.')[1])\n",
    "\n",
    "    xmins = []\n",
    "    xmaxs = []\n",
    "    ymins = []\n",
    "    ymaxs = []\n",
    "    classes_text = []\n",
    "    classes = []\n",
    "\n",
    "    for label in labels:\n",
    "        xmins.append(float(int(label[0][4]) / int(label[0][1])))\n",
    "        xmaxs.append(float(int(label[0][6]) / int(label[0][1])))\n",
    "        ymins.append(float(int(label[0][5]) / int(label[0][2])))\n",
    "        ymaxs.append(float(int(label[0][7]) / int(label[0][2])))\n",
    "        \n",
    "        classes_text.append(label[0][3])\n",
    "\n",
    "        class_ = 0\n",
    "        if (label[0][3] == \"cup\"):\n",
    "            class_ = 1\n",
    "        elif (label[0][3] == \"rutensil\"):\n",
    "            class_ = 2\n",
    "\n",
    "        classes.append(class_)\n",
    "\n",
    "    tf_example = tf.train.Example(features=tf.train.Features(feature={\n",
    "        'image/height': int64_feature(int(labels[0][0][2])),\n",
    "        'image/width': int64_feature(int(labels[0][0][1])),\n",
    "        'image/filename': bytes_feature(str.encode(labels[0][0][0])),\n",
    "        'image/source_id': bytes_feature(labels[0][0][0]),\n",
    "        'image/encoded': bytes_feature(encoded_jpg),\n",
    "        'image/format': bytes_feature(image_format),\n",
    "        'image/object/bbox/xmin': float_list_feature(xmins),\n",
    "        'image/object/bbox/xmax': float_list_feature(xmaxs),\n",
    "        'image/object/bbox/ymin': float_list_feature(ymins),\n",
    "        'image/object/bbox/ymax': float_list_feature(ymaxs),\n",
    "        'image/object/class/text': bytes_list_feature(classes_text),\n",
    "        'image/object/class/label': int64_list_feature(classes),\n",
    "    }))\n",
    "    \n",
    "    return tf_example\n",
    "\n",
    "def checkHowManyAhead(csv_reader, i, relative):\n",
    "    try:\n",
    "        if csv_reader[i + relative][0][0] == csv_reader[i + relative + 1][0][0]:\n",
    "            return checkHowManyAhead(csv_reader, i, relative + 1)\n",
    "        else:\n",
    "            return relative\n",
    "    except IndexError:\n",
    "        print \"End of list\"\n",
    "        return 0"
   ]
  },
  {
   "cell_type": "code",
   "execution_count": 13,
   "metadata": {},
   "outputs": [],
   "source": [
    "def main():\n",
    "    writer = tf.python_io.TFRecordWriter('test.tfrecords')\n",
    "\n",
    "    data_path = 'trening/xml'\n",
    "    images = os.listdir(data_path)\n",
    "    #print(images)\n",
    "\n",
    "    label_csv = 'test_labels.csv'\n",
    "    csvee_reader = csv.reader(open(label_csv, 'r'))\n",
    "\n",
    "    csv_reader = zip(csvee_reader)\n",
    "\n",
    "    for i in range(0, len(images)):\n",
    "        labels = []\n",
    "        ahead = checkHowManyAhead(csv_reader, i, 0)\n",
    "        for j in range(0, ahead + 1):\n",
    "            labels.append(csv_reader[i + j])\n",
    "        tf_example = create_tf_example(images[i], data_path + \"/\" + images[i], labels)\n",
    "        writer.write(tf_example.SerializeToString())\n",
    "\n",
    "    writer.close()"
   ]
  },
  {
   "cell_type": "code",
   "execution_count": 14,
   "metadata": {},
   "outputs": [
    {
     "ename": "IOError",
     "evalue": "[Errno 2] No such file or directory: 'test_labels.csv'",
     "output_type": "error",
     "traceback": [
      "\u001b[0;31m---------------------------------------------------------------------------\u001b[0m",
      "\u001b[0;31mIOError\u001b[0m                                   Traceback (most recent call last)",
      "\u001b[0;32m<ipython-input-14-263240bbee7e>\u001b[0m in \u001b[0;36m<module>\u001b[0;34m()\u001b[0m\n\u001b[0;32m----> 1\u001b[0;31m \u001b[0mmain\u001b[0m\u001b[0;34m(\u001b[0m\u001b[0;34m)\u001b[0m\u001b[0;34m\u001b[0m\u001b[0m\n\u001b[0m",
      "\u001b[0;32m<ipython-input-13-6702f80b07e9>\u001b[0m in \u001b[0;36mmain\u001b[0;34m()\u001b[0m\n\u001b[1;32m      7\u001b[0m \u001b[0;34m\u001b[0m\u001b[0m\n\u001b[1;32m      8\u001b[0m     \u001b[0mlabel_csv\u001b[0m \u001b[0;34m=\u001b[0m \u001b[0;34m'test_labels.csv'\u001b[0m\u001b[0;34m\u001b[0m\u001b[0m\n\u001b[0;32m----> 9\u001b[0;31m     \u001b[0mcsvee_reader\u001b[0m \u001b[0;34m=\u001b[0m \u001b[0mcsv\u001b[0m\u001b[0;34m.\u001b[0m\u001b[0mreader\u001b[0m\u001b[0;34m(\u001b[0m\u001b[0mopen\u001b[0m\u001b[0;34m(\u001b[0m\u001b[0mlabel_csv\u001b[0m\u001b[0;34m,\u001b[0m \u001b[0;34m'r'\u001b[0m\u001b[0;34m)\u001b[0m\u001b[0;34m)\u001b[0m\u001b[0;34m\u001b[0m\u001b[0m\n\u001b[0m\u001b[1;32m     10\u001b[0m \u001b[0;34m\u001b[0m\u001b[0m\n\u001b[1;32m     11\u001b[0m     \u001b[0mcsv_reader\u001b[0m \u001b[0;34m=\u001b[0m \u001b[0mzip\u001b[0m\u001b[0;34m(\u001b[0m\u001b[0mcsvee_reader\u001b[0m\u001b[0;34m)\u001b[0m\u001b[0;34m\u001b[0m\u001b[0m\n",
      "\u001b[0;31mIOError\u001b[0m: [Errno 2] No such file or directory: 'test_labels.csv'"
     ]
    }
   ],
   "source": [
    "main()"
   ]
  }
 ],
 "metadata": {
  "kernelspec": {
   "display_name": "Python 2",
   "language": "python",
   "name": "python2"
  },
  "language_info": {
   "codemirror_mode": {
    "name": "ipython",
    "version": 2
   },
   "file_extension": ".py",
   "mimetype": "text/x-python",
   "name": "python",
   "nbconvert_exporter": "python",
   "pygments_lexer": "ipython2",
   "version": "2.7.15"
  }
 },
 "nbformat": 4,
 "nbformat_minor": 2
}
